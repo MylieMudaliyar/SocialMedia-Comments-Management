{
 "cells": [
  {
   "cell_type": "code",
   "execution_count": 1,
   "id": "c7db9121",
   "metadata": {},
   "outputs": [],
   "source": [
    "import numpy as np \n",
    "import pandas as pd \n",
    "import matplotlib.pyplot as plt\n",
    "import seaborn as sns\n",
    "from sklearn.feature_extraction import text\n",
    "from sklearn.feature_extraction.text import TfidfVectorizer\n",
    "from sklearn.cluster import KMeans\n",
    "from nltk.tokenize import RegexpTokenizer\n",
    "from nltk.stem.snowball import SnowballStemmer\n",
    "%matplotlib inline\n",
    "import itertools\n",
    "import json"
   ]
  },
  {
   "cell_type": "code",
   "execution_count": 2,
   "id": "5da8dcc7",
   "metadata": {},
   "outputs": [
    {
     "name": "stderr",
     "output_type": "stream",
     "text": [
      "c:\\Users\\mylie\\anaconda3\\lib\\site-packages\\IPython\\core\\interactiveshell.py:3444: FutureWarning: The error_bad_lines argument has been deprecated and will be removed in a future version.\n",
      "\n",
      "\n",
      "  exec(code_obj, self.user_global_ns, self.user_ns)\n"
     ]
    },
    {
     "data": {
      "text/html": [
       "<div>\n",
       "<style scoped>\n",
       "    .dataframe tbody tr th:only-of-type {\n",
       "        vertical-align: middle;\n",
       "    }\n",
       "\n",
       "    .dataframe tbody tr th {\n",
       "        vertical-align: top;\n",
       "    }\n",
       "\n",
       "    .dataframe thead th {\n",
       "        text-align: right;\n",
       "    }\n",
       "</style>\n",
       "<table border=\"1\" class=\"dataframe\">\n",
       "  <thead>\n",
       "    <tr style=\"text-align: right;\">\n",
       "      <th></th>\n",
       "      <th>Comment</th>\n",
       "    </tr>\n",
       "  </thead>\n",
       "  <tbody>\n",
       "    <tr>\n",
       "      <th>0</th>\n",
       "      <td>your site is safe for buying products please r...</td>\n",
       "    </tr>\n",
       "    <tr>\n",
       "      <th>1</th>\n",
       "      <td>Bro I have ordered DIY Peltier cooling kit how...</td>\n",
       "    </tr>\n",
       "    <tr>\n",
       "      <th>2</th>\n",
       "      <td>Your web site real or fake please tell your se...</td>\n",
       "    </tr>\n",
       "    <tr>\n",
       "      <th>3</th>\n",
       "      <td>Hello Sir! We are a 100% genuine website, and ...</td>\n",
       "    </tr>\n",
       "    <tr>\n",
       "      <th>4</th>\n",
       "      <td>Sir plzz send the mini dron making parts plzz ...</td>\n",
       "    </tr>\n",
       "  </tbody>\n",
       "</table>\n",
       "</div>"
      ],
      "text/plain": [
       "                                             Comment\n",
       "0  your site is safe for buying products please r...\n",
       "1  Bro I have ordered DIY Peltier cooling kit how...\n",
       "2  Your web site real or fake please tell your se...\n",
       "3  Hello Sir! We are a 100% genuine website, and ...\n",
       "4  Sir plzz send the mini dron making parts plzz ..."
      ]
     },
     "execution_count": 2,
     "metadata": {},
     "output_type": "execute_result"
    }
   ],
   "source": [
    "data = pd.read_csv(\"youtube-comments.csv\",error_bad_lines=False,usecols =[\"Comment\"])\n",
    "data.head()"
   ]
  },
  {
   "cell_type": "code",
   "execution_count": 3,
   "id": "d9ee6470",
   "metadata": {
    "scrolled": false
   },
   "outputs": [
    {
     "name": "stdout",
     "output_type": "stream",
     "text": [
      "<class 'pandas.core.frame.DataFrame'>\n",
      "RangeIndex: 226 entries, 0 to 225\n",
      "Data columns (total 1 columns):\n",
      " #   Column   Non-Null Count  Dtype \n",
      "---  ------   --------------  ----- \n",
      " 0   Comment  226 non-null    object\n",
      "dtypes: object(1)\n",
      "memory usage: 1.9+ KB\n"
     ]
    }
   ],
   "source": [
    "data.info()"
   ]
  },
  {
   "cell_type": "code",
   "execution_count": 4,
   "id": "6ad3a15b",
   "metadata": {},
   "outputs": [
    {
     "data": {
      "text/html": [
       "<div>\n",
       "<style scoped>\n",
       "    .dataframe tbody tr th:only-of-type {\n",
       "        vertical-align: middle;\n",
       "    }\n",
       "\n",
       "    .dataframe tbody tr th {\n",
       "        vertical-align: top;\n",
       "    }\n",
       "\n",
       "    .dataframe thead th {\n",
       "        text-align: right;\n",
       "    }\n",
       "</style>\n",
       "<table border=\"1\" class=\"dataframe\">\n",
       "  <thead>\n",
       "    <tr style=\"text-align: right;\">\n",
       "      <th></th>\n",
       "      <th>Comment</th>\n",
       "    </tr>\n",
       "  </thead>\n",
       "  <tbody>\n",
       "    <tr>\n",
       "      <th>89</th>\n",
       "      <td>:)</td>\n",
       "    </tr>\n",
       "    <tr>\n",
       "      <th>94</th>\n",
       "      <td>:)</td>\n",
       "    </tr>\n",
       "    <tr>\n",
       "      <th>123</th>\n",
       "      <td>:)</td>\n",
       "    </tr>\n",
       "    <tr>\n",
       "      <th>140</th>\n",
       "      <td>Glad you liked it! :)</td>\n",
       "    </tr>\n",
       "    <tr>\n",
       "      <th>158</th>\n",
       "      <td>Glad you liked it! :)</td>\n",
       "    </tr>\n",
       "    <tr>\n",
       "      <th>155</th>\n",
       "      <td>Glad you liked it! :)</td>\n",
       "    </tr>\n",
       "    <tr>\n",
       "      <th>152</th>\n",
       "      <td>Glad you liked it! :)</td>\n",
       "    </tr>\n",
       "    <tr>\n",
       "      <th>149</th>\n",
       "      <td>Glad you liked it! :)</td>\n",
       "    </tr>\n",
       "  </tbody>\n",
       "</table>\n",
       "</div>"
      ],
      "text/plain": [
       "                   Comment\n",
       "89                      :)\n",
       "94                      :)\n",
       "123                     :)\n",
       "140  Glad you liked it! :)\n",
       "158  Glad you liked it! :)\n",
       "155  Glad you liked it! :)\n",
       "152  Glad you liked it! :)\n",
       "149  Glad you liked it! :)"
      ]
     },
     "execution_count": 4,
     "metadata": {},
     "output_type": "execute_result"
    }
   ],
   "source": [
    "data[data['Comment'].duplicated(keep=False)].sort_values('Comment').head(8)"
   ]
  },
  {
   "cell_type": "code",
   "execution_count": 5,
   "id": "f5cb099a",
   "metadata": {},
   "outputs": [],
   "source": [
    "data = data.drop_duplicates('Comment')"
   ]
  },
  {
   "cell_type": "code",
   "execution_count": 7,
   "id": "81d0c7dd",
   "metadata": {},
   "outputs": [],
   "source": [
    "# Define a list of punctuation marks\n",
    "punc = ['.', ',', '\"', \"'\", '?', '!', ':', ';', '(', ')', '[', ']', '{', '}', \"%\"]\n",
    "\n",
    "# Combine the punctuation marks with the built-in English stop words\n",
    "stop_words = text.ENGLISH_STOP_WORDS.union(punc)\n",
    "\n",
    "# Your data and vectorization code\n",
    "desc = data['Comment'].values\n",
    "vectorizer = TfidfVectorizer(stop_words='english')  # Use 'english' here\n",
    "X = vectorizer.fit_transform(desc)"
   ]
  },
  {
   "cell_type": "code",
   "execution_count": 9,
   "id": "d9bf460d",
   "metadata": {},
   "outputs": [
    {
     "name": "stdout",
     "output_type": "stream",
     "text": [
      "730\n",
      "['cause' 'causes' 'central' 'change' 'channel' 'check' 'cheers' 'chip'\n",
      " 'circuit' 'clarification' 'class' 'classification' 'clear' 'cli' 'cnn'\n",
      " 'code' 'com' 'combine' 'come' 'comes' 'command' 'community' 'complete'\n",
      " 'component' 'components' 'compute' 'computer' 'concise' 'concurrently'\n",
      " 'confused' 'confusing' 'congrats' 'congratulations' 'connect' 'connected'\n",
      " 'connecting' 'connection' 'consider' 'constant' 'contacted' 'contain'\n",
      " 'content' 'continuously' 'control' 'controlled' 'conversion' 'convert'\n",
      " 'converting' 'cooling' 'core' 'corectly' 'correct' 'country' 'cpp'\n",
      " 'create' 'crypto' 'ct' 'current' 'cute' 'd13' 'daemon' 'danny' 'data'\n",
      " 'datasheets' 'deals' 'debug' 'decide' 'deference' 'delay' 'delete'\n",
      " 'deliver' 'delivery' 'dense' 'dependencies' 'deploy' 'described'\n",
      " 'description' 'design' 'detailed' 'details' 'detect' 'device' 'did'\n",
      " 'didn' 'directly' 'discount' 'discounts' 'discover' 'display' 'diy'\n",
      " 'docs' 'documentation' 'does' 'doing' 'domains' 'don' 'dont' 'doubt'\n",
      " 'drive' 'drives' 'dron' 'drone' 'dsn' 'duplicate' 'duture' 'ease'\n",
      " 'easily' 'ecg' 'edge' 'edgeimpulse' 'eexist' 'effor' 'effort' 'ei'\n",
      " 'elecfreaks' 'element14' 'eliminate' 'embedded' 'english' 'enjoyed'\n",
      " 'enjoying' 'enlarge' 'enthusiast' 'err' 'error' 'esp32' 'especially'\n",
      " 'essential' 'ex' 'example' 'excellent' 'exciting' 'existing' 'exists'\n",
      " 'explained' 'explanation' 'exploration' 'externally' 'extremely' 'fake'\n",
      " 'familiar' 'fan' 'features' 'field' 'file' 'files' 'final' 'finding'\n",
      " 'firmware' 'fix' 'float' 'float_val' 'flysky' 'footprint' 'force' 'fpgas'\n",
      " 'freelancer' 'frequency' 'ftw' 'function' 'functions' 'future' 'ga'\n",
      " 'gained' 'game' 'garenty' 'genuine' 'getting' 'ghosh' 'given' 'glad'\n",
      " 'gnd' 'going' 'good' 'got' 'gpio' 'grateful' 'great' 'grow' 'guess' 'guy'\n",
      " 'guys' 'happens' 'happy' 'harsh' 'having' 'hc' 'hdls' 'hdmi' 'hello'\n",
      " 'help' 'helped' 'helpful' 'hex' 'hey' 'hi' 'high' 'hobby' 'holds'\n",
      " 'honestly']\n"
     ]
    }
   ],
   "source": [
    "word_features = vectorizer.get_feature_names_out()\n",
    "print(len(word_features))\n",
    "print(word_features[100:300])"
   ]
  },
  {
   "cell_type": "code",
   "execution_count": 10,
   "id": "6372d3f8",
   "metadata": {},
   "outputs": [],
   "source": [
    "stemmer = SnowballStemmer('english')\n",
    "tokenizer = RegexpTokenizer(r'[a-zA-Z\\']+')\n",
    "\n",
    "def tokenize(text):\n",
    "    return [stemmer.stem(word) for word in tokenizer.tokenize(text.lower())]"
   ]
  },
  {
   "cell_type": "code",
   "execution_count": 14,
   "id": "4e90c168",
   "metadata": {},
   "outputs": [
    {
     "name": "stdout",
     "output_type": "stream",
     "text": [
      "768\n",
      "['a' 'abl' 'about' 'absolut' 'accelar' 'accord' 'acer' 'achiev' 'across'\n",
      " 'activ' 'actual' 'ad' 'adaptor' 'adc' 'add' 'advertis' 'advic' 'affect'\n",
      " 'after' 'again' 'ai' 'all' 'allow' 'alreadi' 'also' 'alway' 'am' 'amaz'\n",
      " 'amazon' 'an' 'analysi' 'and' 'ani' 'anoth' 'anubhav' 'anymor' 'anyon'\n",
      " 'anyway' 'anywher' 'app' 'appdata' 'applic' 'appreci' 'arduino' 'are'\n",
      " \"aren't\" 'around' 'as' 'ask' 'assign']\n"
     ]
    },
    {
     "name": "stderr",
     "output_type": "stream",
     "text": [
      "c:\\Users\\mylie\\anaconda3\\lib\\site-packages\\sklearn\\feature_extraction\\text.py:528: UserWarning: The parameter 'token_pattern' will not be used since 'tokenizer' is not None'\n",
      "  warnings.warn(\n"
     ]
    }
   ],
   "source": [
    "\n",
    "vectorizer2 = TfidfVectorizer(tokenizer=tokenize)\n",
    "X2 = vectorizer2.fit_transform(desc)\n",
    "word_features2 = vectorizer2.get_feature_names_out()\n",
    "print(len(word_features2))\n",
    "print(word_features2[:50])"
   ]
  },
  {
   "cell_type": "code",
   "execution_count": 19,
   "id": "ef7d3519",
   "metadata": {},
   "outputs": [
    {
     "name": "stderr",
     "output_type": "stream",
     "text": [
      "c:\\Users\\mylie\\anaconda3\\lib\\site-packages\\sklearn\\feature_extraction\\text.py:528: UserWarning: The parameter 'token_pattern' will not be used since 'tokenizer' is not None'\n",
      "  warnings.warn(\n"
     ]
    }
   ],
   "source": [
    "# vectorizer3 = TfidfVectorizer(stop_words = stop_words, tokenizer = tokenize, max_features = 1000)\n",
    "# X3 = vectorizer3.fit_transform(desc)\n",
    "# words = vectorizer3.get_feature_names_out()\n",
    "\n",
    "vectorizer3 = TfidfVectorizer(tokenizer=tokenize, max_features=1000)\n",
    "X3 = vectorizer3.fit_transform(desc)\n",
    "words = vectorizer3.get_feature_names_out()"
   ]
  },
  {
   "cell_type": "code",
   "execution_count": 20,
   "id": "bab4881e",
   "metadata": {},
   "outputs": [
    {
     "data": {
      "image/png": "[encoded data removed]",
      "text/plain": [
       "<Figure size 432x288 with 1 Axes>"
      ]
     },
     "metadata": {
      "needs_background": "light"
     },
     "output_type": "display_data"
    }
   ],
   "source": [
    "from sklearn.cluster import KMeans\n",
    "wcss = []\n",
    "for i in range(1,11):\n",
    "    kmeans = KMeans(n_clusters=i,init='k-means++',max_iter=300,n_init=10,random_state=0)\n",
    "    kmeans.fit(X3)\n",
    "    wcss.append(kmeans.inertia_)\n",
    "plt.plot(range(1,11),wcss)\n",
    "plt.title('The Elbow Method')\n",
    "plt.xlabel('Number of clusters')\n",
    "plt.ylabel('WCSS')\n",
    "plt.savefig('elbow.png')\n",
    "plt.show()"
   ]
  },
  {
   "cell_type": "code",
   "execution_count": 21,
   "id": "7db68af0",
   "metadata": {},
   "outputs": [
    {
     "name": "stdout",
     "output_type": "stream",
     "text": [
      "0 : the, you, to, are, i, is, for, we, this, video, it, and, a, glad, can, use, in, thank, your, on, help, that, do, with, not\n",
      "1 : thank, for, lot, you, video, tune, stay, share, a, such, content, more, ghosh, awesom, veri, moinak, seri, cheer, brother, your, the, tutori, support, clarif, boss\n",
      "2 : good, keep, awesom, work, nice, up, great, video, explan, quit, amaz, bro, it, job, one, moinak, insight, man, content, inform, like, price, superbbbb, superrrrrrr, uhh\n"
     ]
    }
   ],
   "source": [
    "kmeans = KMeans(n_clusters = 3, n_init = 20) \n",
    "kmeans.fit(X3)\n",
    "# We look at 3 the clusters generated by k-means.\n",
    "common_words = kmeans.cluster_centers_.argsort()[:,-1:-26:-1]\n",
    "for num, centroid in enumerate(common_words):\n",
    "    print(str(num) + ' : ' + ', '.join(words[word] for word in centroid))\n"
   ]
  },
  {
   "cell_type": "code",
   "execution_count": 22,
   "id": "6192a637",
   "metadata": {},
   "outputs": [
    {
     "name": "stdout",
     "output_type": "stream",
     "text": [
      "[\n",
      "  \"your site is safe for buying products please reply because I want to buy a drone kit\",\n",
      "  \"Bro I have ordered DIY Peltier cooling kit how to track the package\\nThank you\",\n",
      "  \"Your web site real or fake please tell your service in Mumbai I am purchase\",\n",
      "  \"Hello Sir! We are a 100% genuine website, and we are also the authorised resellers for Raspberry Pi, Arduino, Micro:Bit, M5Stack, ElecFreaks, SeeedStudio and Element14 in the country of India.\\n\\nWe deliver world-wide. We ship within 24 hours of receiving the order, and you should receive it in Mumbai pretty soon! :)\",\n",
      "  \"Sir plzz send the mini dron making parts plzz I not mony iam realy fan for this robocraze\",\n",
      "  \"I am not able to buy your receiver and transmitter for rc car in amazon because it is out of stock please make it available for me\",\n",
      "  \"Bro I contacted you I will order sume product but I not cancel it please help me bro\",\n",
      "  \"can i use it for bose 2.1 and any warranty available?\",\n",
      "  \"Is it still available with you?\",\n",
      "  \"Hi, You can visit our website robocraze.com to check the availability of the component\"\n",
      "] \n",
      "\n",
      "\n",
      "[\n",
      "  \"Thank you! :)\",\n",
      "  \"Thanks 😅\",\n",
      "  \"Thanks a lot. Stay tuned for duture videos\",\n",
      "  \"Thanks\",\n",
      "  \"Thanks a lot Boss very useful Videos\",\n",
      "  \"Thanks for the video 🤘🤘\",\n",
      "  \"Thanks 😄\",\n",
      "  \"Thanks for sharing\",\n",
      "  \"Very good tutorial. Thank you.\",\n",
      "  \"Thank you brother\"\n",
      "] \n",
      "\n",
      "\n",
      "[\n",
      "  \"excellent work\",\n",
      "  \"Flysky i6 at 4600 and CT-6B at 3400\",\n",
      "  \"Discount code kaha se mile ga\",\n",
      "  \"https://robocraze.com/pages/deals\",\n",
      "  \"Nice one bro and👍😀\",\n",
      "  \"6\",\n",
      "  \"Good job \\nkeep up 🌚❤️\",\n",
      "  \"Price?\",\n",
      "  \"Superbbbb;!!!!!\",\n",
      "  \"👍👍👍\"\n",
      "] \n",
      "\n",
      "\n"
     ]
    },
    {
     "data": {
      "text/plain": [
       "0    110\n",
       "2     57\n",
       "1     26\n",
       "Name: prediction, dtype: int64"
      ]
     },
     "execution_count": 22,
     "metadata": {},
     "output_type": "execute_result"
    }
   ],
   "source": [
    "# print(\"Prediction\")\n",
    "\n",
    "Y = vectorizer3.transform(data[\"Comment\"].values)\n",
    "prediction = kmeans.predict(Y)\n",
    "# print(prediction)\n",
    "\n",
    "c1,c2,c3=[],[],[]\n",
    "\n",
    "for (i,j) in zip(prediction,data[\"Comment\"].values):\n",
    "    if i == 0:\n",
    "        c1.append(j)\n",
    "    elif i == 1:\n",
    "        c2.append(j)\n",
    "    elif i == 2:\n",
    "        c3.append(j)\n",
    "    \n",
    "\n",
    "print(json.dumps(c1[:10], indent = 2, ensure_ascii = False),\"\\n\\n\")\n",
    "print(json.dumps(c2[:10], indent = 2, ensure_ascii = False),\"\\n\\n\")\n",
    "print(json.dumps(c3[:10], indent = 2, ensure_ascii = False),\"\\n\\n\")\n",
    "ans = pd.DataFrame()\n",
    "ans[\"prediction\"] = prediction\n",
    "ans[\"prediction\"].value_counts()"
   ]
  },
  {
   "cell_type": "code",
   "execution_count": 23,
   "id": "5117baa6",
   "metadata": {},
   "outputs": [
    {
     "name": "stdout",
     "output_type": "stream",
     "text": [
      "[50, 0, 3]\n"
     ]
    }
   ],
   "source": [
    "que = [\"what\", \"why\", \"when\", \"where\", \"name\", \"how\", \"does\", \"which\", \"would\", \"could\", \"should\", \"has\", \"have\", \"whom\", \"whose\", \"question\"]\n",
    "\n",
    "# This is amazing. Thank you for showing all these sensor capabilities. Really inspires ideas for me\n",
    "count = []\n",
    "count1 = 0\n",
    "for i in c1:\n",
    "    z=i.lower()\n",
    "    if any(q in z for q in que):\n",
    "        count1+=1\n",
    "count.append(count1)\n",
    "\n",
    "count1=0\n",
    "for i in c2:\n",
    "    z=i.lower()\n",
    "    if any(q in z for q in que):\n",
    "        count1+=1\n",
    "count.append(count1)\n",
    "\n",
    "count1=0\n",
    "for i in c3:\n",
    "    z=i.lower()\n",
    "    if any(q in z for q in que):\n",
    "        count1+=1\n",
    "count.append(count1)\n",
    "\n",
    "print(count)\n",
    "# print(json.dumps(questions, indent = 2, ensure_ascii = False))"
   ]
  },
  {
   "cell_type": "code",
   "execution_count": 24,
   "id": "e6c033a5",
   "metadata": {},
   "outputs": [
    {
     "name": "stdout",
     "output_type": "stream",
     "text": [
      "0 : the, to, i, you, is, a, and, for, use, it, with, can, your, ble, thank, of, on, how, nano, me, this, not, explan, arduino, awesom\n",
      "1 : thank, for, share, you, video, cheer, brother, the, lot, awesom, clarif, nice, seri, ghosh, a, moinak, fix, fpgas, found, forc, got, footprint, flyski, float, give\n",
      "2 : good, keep, up, work, nice, awesom, bro, it, job, great, tutori, one, veri, moinak, excel, go, motu, content, man, explain, and, congrat, verri, few, simpl\n",
      "3 : are, you, glad, tune, stay, for, we, more, content, such, video, thank, enjoy, this, help, seri, your, lot, support, tutori, hi, the, us, like, our\n",
      "4 : video, the, to, in, you, this, check, impuls, uhh, edg, our, great, do, super, nice, see, link, com, can, cli, instal, how, not, blog, post\n"
     ]
    }
   ],
   "source": [
    "kmeans = KMeans(n_clusters = 5, n_init = 20)\n",
    "kmeans.fit(X3)\n",
    "# We look at 5 the clusters generated by k-means.\n",
    "common_words = kmeans.cluster_centers_.argsort()[:,-1:-26:-1]\n",
    "for num, centroid in enumerate(common_words):\n",
    "    print(str(num) + ' : ' + ', '.join(words[word] for word in centroid))"
   ]
  },
  {
   "cell_type": "code",
   "execution_count": null,
   "id": "2067f05c",
   "metadata": {},
   "outputs": [
    {
     "name": "stdout",
     "output_type": "stream",
     "text": [
      "Prediction\n",
      "[\n",
      "  \"your site is safe for buying products please reply because I want to buy a drone kit\",\n",
      "  \"Bro I have ordered DIY Peltier cooling kit how to track the package\\nThank you\",\n",
      "  \"Your web site real or fake please tell your service in Mumbai I am purchase\",\n",
      "  \"Hello Sir! We are a 100% genuine website, and we are also the authorised resellers for Raspberry Pi, Arduino, Micro:Bit, M5Stack, ElecFreaks, SeeedStudio and Element14 in the country of India.\\n\\nWe deliver world-wide. We ship within 24 hours of receiving the order, and you should receive it in Mumbai pretty soon! :)\",\n",
      "  \"Sir plzz send the mini dron making parts plzz I not mony iam realy fan for this robocraze\",\n",
      "  \"excellent work\",\n",
      "  \"I am not able to buy your receiver and transmitter for rc car in amazon because it is out of stock please make it available for me\",\n",
      "  \"Flysky i6 at 4600 and CT-6B at 3400\",\n",
      "  \"Discount code kaha se mile ga\",\n",
      "  \"https://robocraze.com/pages/deals\"\n",
      "] \n",
      "\n",
      "\n",
      "[\n",
      "  \"Too much noise in the video background. Please eliminate it to improve the video quality.\",\n",
      "  \"Thanks! \\nYou can check out our playlist on TinyML series for more similar videos\\nhttps://www.youtube.com/watch?v=LXgL850p7b0&list=PLUwmiNOPP-7hrRFsplajItGAn5ykUjOgY\",\n",
      "  \"Thanks a lot. Stay tuned for duture videos\",\n",
      "  \"Another amazing video 🙌😎\",\n",
      "  \"Nice video\",\n",
      "  \"Thank you!  Do check out our other videos in this playlist :)\",\n",
      "  \"Thanks a lot Boss very useful Videos\",\n",
      "  \"We are glad you are enjoying our videos :)\",\n",
      "  \"We are glad this video helped you :)\",\n",
      "  \"There are memes about \\\"the IT teacher taught me nothing but the Indian guy on the internet did\\\". \\nThe knowledge presented in this video is essential for my hobby project with the Pico.\\nThank you very much! This video is a great start for me.\"\n",
      "] \n",
      "\n",
      "\n",
      "[\n",
      "  \"Awesome stuff! 👍\",\n",
      "  \"Awesome work Moinak\\nKeep it up !!\",\n",
      "  \"Awesome, keep it up ! 😁\",\n",
      "  \"Awesome video.. but why you don't work with Vitis as you're machine learning Enthusiast?\",\n",
      "  \"Awesome work!!\",\n",
      "  \"Awesome Explanation !!!\",\n",
      "  \"Awesome explanation!!\",\n",
      "  \"As usual awesome video. Looking for such tutorials. Thanks for sharing\",\n",
      "  \"Awesome .. thanks for the video\"\n",
      "] \n",
      "\n",
      "\n",
      "[\n",
      "  \"Thank you! :)\",\n",
      "  \"Thanks 😅\",\n",
      "  \"Thanks\",\n",
      "  \"Thanks for the video 🤘🤘\",\n",
      "  \"Thanks 😄\",\n",
      "  \"Thanks for sharing\",\n",
      "  \"Thank you brother\",\n",
      "  \"Thank you! Cheers! :)\",\n",
      "  \"Thanks ✌️\",\n",
      "  \"Thanks a lot 😊\"\n",
      "] \n",
      "\n",
      "\n",
      "[\n",
      "  \"Good job \\nkeep up 🌚❤️\",\n",
      "  \"Good job!!\",\n",
      "  \"they way of your teaching is very good, can you do some projects on your channel, it will be very helpful and your channel will grow easily,\",\n",
      "  \"Good👍🏼\",\n",
      "  \"Very good tutorial. Thank you.\",\n",
      "  \"good👍👍👍\",\n",
      "  \"Good Content.\",\n",
      "  \"Very good work man.\",\n",
      "  \"Good tutorial. Keep up the good work.\"\n",
      "] \n",
      "\n",
      "\n"
     ]
    },
    {
     "data": {
      "text/plain": [
       "0    115\n",
       "1     45\n",
       "3     15\n",
       "4      9\n",
       "2      9\n",
       "Name: prediction, dtype: int64"
      ]
     },
     "execution_count": 25,
     "metadata": {},
     "output_type": "execute_result"
    }
   ],
   "source": [
    "print(\"Prediction\")\n",
    "\n",
    "Y = vectorizer3.transform(data[\"Comment\"].values)\n",
    "prediction = kmeans.predict(Y)\n",
    "# print(prediction)\n",
    "\n",
    "c1,c2,c3,c4,c5=[],[],[],[],[]\n",
    "\n",
    "for (i,j) in zip(prediction,data[\"Comment\"].values):\n",
    "    if i == 0:\n",
    "        c1.append(j)\n",
    "    elif i == 1:\n",
    "        c2.append(j)\n",
    "    elif i == 2:\n",
    "        c3.append(j)\n",
    "    elif i == 3:\n",
    "        c4.append(j)\n",
    "    elif i == 4:\n",
    "        c5.append(j)\n",
    "    \n",
    "\n",
    "print(json.dumps(c1[:10], indent = 2, ensure_ascii = False),\"\\n\\n\")\n",
    "print(json.dumps(c2[:10], indent = 2, ensure_ascii = False),\"\\n\\n\")\n",
    "print(json.dumps(c3[:10], indent = 2, ensure_ascii = False),\"\\n\\n\")\n",
    "print(json.dumps(c4[:10], indent = 2, ensure_ascii = False),\"\\n\\n\")\n",
    "print(json.dumps(c5[:10], indent = 2, ensure_ascii = False),\"\\n\\n\")\n",
    "\n",
    "ans = pd.DataFrame()\n",
    "ans[\"prediction\"] = prediction\n",
    "ans[\"prediction\"].value_counts()"
   ]
  },
  {
   "cell_type": "code",
   "execution_count": 31,
   "id": "37e9afcc",
   "metadata": {},
   "outputs": [
    {
     "name": "stdout",
     "output_type": "stream",
     "text": [
      "[50, 0, 3]\n"
     ]
    }
   ],
   "source": [
    "que = [\"what\", \"why\", \"when\", \"where\", \"name\", \"how\", \"does\", \"which\", \"would\", \"could\", \"should\", \"has\", \"have\", \"whom\", \"whose\", \"question\"]\n",
    "\n",
    "# This is amazing. Thank you for showing all these sensor capabilities. Really inspires ideas for me\n",
    "count = []\n",
    "count1 = 0\n",
    "for i in c1:\n",
    "    z=i.lower()\n",
    "    if any(q in z for q in que):\n",
    "        count1+=1\n",
    "count.append(count1)\n",
    "\n",
    "count1=0\n",
    "for i in c2:\n",
    "    z=i.lower()\n",
    "    if any(q in z for q in que):\n",
    "        count1+=1\n",
    "count.append(count1)\n",
    "\n",
    "count1=0\n",
    "for i in c3:\n",
    "    z=i.lower()\n",
    "    if any(q in z for q in que):\n",
    "        count1+=1\n",
    "count.append(count1)\n",
    "\n",
    "# count1=0\n",
    "# for i in c4:\n",
    "#     z=i.lower()\n",
    "#     if any(q in z for q in que):\n",
    "#         count1+=1\n",
    "# count.append(count1)\n",
    "\n",
    "# count1=0\n",
    "# for i in c5:\n",
    "#     z=i.lower()\n",
    "#     if any(q in z for q in que):\n",
    "#         count1+=1\n",
    "# count.append(count1)\n",
    "\n",
    "print(count)"
   ]
  },
  {
   "cell_type": "code",
   "execution_count": 32,
   "id": "4d8667be",
   "metadata": {},
   "outputs": [
    {
     "name": "stdout",
     "output_type": "stream",
     "text": [
      "0 : thank, you, zip, flyski, ftw, from, frequenc, freelanc, fpgas, found, forc, for, footprint, float, function, fix, first, firmwar, find, final, file, field, few, featur, full\n",
      "1 : keep, up, it, good, awesom, work, tutori, job, bro, one, great, moinak, nice, verri, congrat, few, video, nano, the, garenti, first, for, footprint, got, flyski\n",
      "2 : are, you, glad, we, enjoy, video, this, like, help, seri, our, the, thank, that, more, for, subscrib, tune, stay, hi, tutori, content, word, kind, found\n",
      "3 : stay, tune, lot, for, thank, content, more, a, such, support, your, motiv, video, us, seri, boss, dutur, pleas, what, excit, in, updat, this, grate, veri\n",
      "4 : the, to, you, for, thank, i, video, is, and, good, a, it, work, nice, use, can, great, this, how, in, with, your, on, of, ble\n",
      "5 : awesom, explan, stuff, work, video, thank, for, the, float, freelanc, fpgas, found, forc, footprint, flyski, first, fix, from, firmwar, find, final, file, field, few, featur\n"
     ]
    }
   ],
   "source": [
    "kmeans = KMeans(n_clusters = 6, n_init = 20)\n",
    "kmeans.fit(X3)\n",
    "# We look at 6 the clusters generated by k-means.\n",
    "common_words = kmeans.cluster_centers_.argsort()[:,-1:-26:-1]\n",
    "for num, centroid in enumerate(common_words):\n",
    "    print(str(num) + ' : ' + ', '.join(words[word] for word in centroid))"
   ]
  },
  {
   "cell_type": "code",
   "execution_count": null,
   "id": "b62e7a59",
   "metadata": {},
   "outputs": [],
   "source": [
    "print(\"Prediction\")\n",
    "\n",
    "Y = vectorizer3.transform(data[\"Comment\"].values)\n",
    "prediction = kmeans.predict(Y)\n",
    "# print(prediction)\n",
    "\n",
    "c1,c2,c3,c4,c5,c6=[],[],[],[],[],[]\n",
    "\n",
    "for (i,j) in zip(prediction,data[\"Comment\"].values):\n",
    "    if i == 0:\n",
    "        c1.append(j)\n",
    "    elif i == 1:\n",
    "        c2.append(j)\n",
    "    elif i == 2:\n",
    "        c3.append(j)\n",
    "    elif i == 3:\n",
    "        c4.append(j)\n",
    "    elif i == 4:\n",
    "        c5.append(j)\n",
    "    elif i == 5:\n",
    "        c6.append(j)\n",
    "\n",
    "print(json.dumps(c1[:10], indent = 2, ensure_ascii = False),\"\\n\\n\")\n",
    "print(json.dumps(c2[:10], indent = 2, ensure_ascii = False),\"\\n\\n\")\n",
    "print(json.dumps(c3[:10], indent = 2, ensure_ascii = False),\"\\n\\n\")\n",
    "print(json.dumps(c4[:10], indent = 2, ensure_ascii = False),\"\\n\\n\")\n",
    "print(json.dumps(c5[:10], indent = 2, ensure_ascii = False),\"\\n\\n\")\n",
    "print(json.dumps(c6[:10], indent = 2, ensure_ascii = False),\"\\n\\n\")\n",
    "\n",
    "ans = pd.DataFrame()\n",
    "ans[\"prediction\"] = prediction\n",
    "ans[\"prediction\"].value_counts()"
   ]
  },
  {
   "cell_type": "code",
   "execution_count": 33,
   "id": "e9661793",
   "metadata": {
    "scrolled": false
   },
   "outputs": [
    {
     "name": "stdout",
     "output_type": "stream",
     "text": [
      "53\n",
      "[\n",
      "  \"Bro I have ordered DIY Peltier cooling kit how to track the package\\nThank you\",\n",
      "  \"Your web site real or fake please tell your service in Mumbai I am purchase\",\n",
      "  \"Hello Sir! We are a 100% genuine website, and we are also the authorised resellers for Raspberry Pi, Arduino, Micro:Bit, M5Stack, ElecFreaks, SeeedStudio and Element14 in the country of India.\\n\\nWe deliver world-wide. We ship within 24 hours of receiving the order, and you should receive it in Mumbai pretty soon! :)\",\n",
      "  \"Sir rassburypi 4 is have returned garenty\",\n",
      "  \"Hello Sir! The MRP of the kit is Rs 20,000/-. We do offer bulk discounts on purchase of 10 kits & more. :)\",\n",
      "  \"Would you please upload the Proteus file to your drive because the wires you have connected from other components to Arduino are a little bit confusing in that final design so please upload it .\",\n",
      "  \"very nice sir, please show me how to make schematic with imported schematic from orcad dsn file.\",\n",
      "  \"I have already made cnn audio classification model by myself, can I upload that model on this board?\",\n",
      "  \"Is part 3 available yet? Your tutorials are great and I'd like to know how to deploy the ML onto my arduino\",\n",
      "  \"how to check whether edge impulse cli has been installed or not\",\n",
      "  \"If CLI is installed, you should be able to run edge impulse daemon tool\\nYou can refer to this video to see how it is being set up\\nhttps://www.youtube.com/watch?v=tO5ZfbDDVY8&t=151s\",\n",
      "  \"After we input the code to arduino nano 33 BLE, it can run without connect to computer or we should connect to computer to use the project??\",\n",
      "  \"hi Sir, can you give me explanation why you add more dense layer with 3 neuron?\",\n",
      "  \"The number of dense layers and number of neurons are tunable hyper-parameters. So we play around with both these numbers and see how they affect our results and accordingly decide. For our example we found that 3 layers worked well\",\n",
      "  \"Theoretically it should since they both use the same processor chip. But the non sense version does not contain all the onboard sensors that we have used for this series. So you will need to interface those sensors externally to achieve the same result\",\n",
      "  \"installed both python and node.js. but if i try this \\\"npm install -g edge-impulse-cli --force\\\", it is showing me error message like below\\n\\nnpm WARN using --force I sure hope you know what you are doing.\\r\\nnpm WARN tsargs@1.4.1 requires a peer of typescript@^3.1.6 but none is installed. You must install peer dependencies yourself.\\r\\n\\r\\nnpm ERR! code EEXIST\\r\\nnpm ERR! path C:\\\\Users\\\\Acer\\\\AppData\\\\Roaming\\\\npm\\\\edge-impulse-blocks.ps1\\r\\nnpm ERR! Refusing to delete C:\\\\Users\\\\Acer\\\\AppData\\\\Roaming\\\\npm\\\\edge-impulse-blocks.ps1: node_modules/edge-impulse-cli/build/cli/blocks.js symlink target is not controlled by npm C:\\\\Users\\\\Acer\\\\AppData\\\\Roaming\\\\npm\\\\node_modules\\\\edge-impulse-cli\\r\\nnpm ERR! File exists: C:\\\\Users\\\\Acer\\\\AppData\\\\Roaming\\\\npm\\\\edge-impulse-blocks.ps1\\r\\nnpm ERR! Remove the existing file and try again, or run npm\\r\\nnpm ERR! with --force to overwrite files recklessly.\\r\\n\\r\\nnpm ERR! A complete log of this run can be found in:\\r\\nnpm ERR!     C:\\\\Users\\\\Acer\\\\AppData\\\\Roaming\\\\npm-cache\\\\_logs\\\\2021-10-17T22_09_49_139Z-debug.log\",\n",
      "  \"Have you installed Edge Impulse CLI on your PC before running the command? You can find the detailed instructions on how to do so in the Edge Impulse docs linked below\\nhttps://docs.edgeimpulse.com/docs/cli-installation\",\n",
      "  \"What happens if someone just holds down all 4 buttons continuously?\",\n",
      "  \"In that case, it would indeed consider it as a button press and you could beat the game. In order to fix this, you can use button states and only on a rising edge, set the button_pressed variable. So you can use last state and current state and check if last state is LOW and current state is HIGH, only then consider a button press.\",\n",
      "  \"Great video. Ideas- publish the code and can we do this to re-use old monitors...like have a 21in monitor split in 4 parts with a crypto in each one....using the hdmi port on raspberry pi.\",\n",
      "  \"brother can you please tell me \\nhow to convert that float values into integer only \\nto print the price in integer (both USD and INR) because I dont want that long text indicating the price\\nso if there is only integer value , so I can enlarge the text and view the prices corectly .....please brother help me\",\n",
      "  \"hi bro! how are you? could you create more than one timer interrupt?\",\n",
      "  \"Thanks for this! Question: What is the *t all about  in the callback? This is a deference of pointer t right? But I don't see where \\\"t\\\" shows up anywhere else.\",\n",
      "  \"Thank you for learning how to use the gpio interrupt!\",\n",
      "  \"Do you know how to activate adc interrupt callback?\",\n",
      "  \"Hi M B,\\nThank you, we are glad you are finding this series helpful. We have taken a small break from Pico C videos, however in the future we may come up with more videos on the Pico C/C++ SDK, stay tuned! :)\",\n",
      "  \"How to find which channel (PWM_CHAN_A) belongs to which gpio pin ?\",\n",
      "  \"Hi,\\nThe blog links have been updated in the video description.\",\n",
      "  \"Your motivation is what drives us!! Please stay tuned for more videos in this series\",\n",
      "  \"Awesome video.. but why you don't work with Vitis as you're machine learning Enthusiast?\",\n",
      "  \"Vitis would be much beyond many of our viewers here. We do use it for our own work but only when compute accelaration is really necessary. For most mundane  tasks, RTL and Block level design with available IP in Vivado is good enough\",\n",
      "  \"i'm using window, could u make turtorial code c windowOS for Pico ? thanks\",\n",
      "  \"Would love to see more such videos!!\",\n",
      "  \"Your constant support is what motivates us!! Stay tuned for more such content!!\",\n",
      "  \"@M M Honestly even if there are, I am not aware. The ease of getting started with EI opens up many possibilities, especially for researchers in signal processing, not familiar with AI/ML. Another point worth mentioning is that the lower memory footprint allows more inference at the edge, which in turn opens up many domains of research previously beyond the reach of the average researcher.\",\n",
      "  \"Hey, thank you! Unfortunately, we have not tried it yet. If you could provide more details of the library we can maybe do some exploration\",\n",
      "  \"I am attempting to duplicate this project for learning purposes, but I am a bit confused about 1 thing. I am able to get the code up and running and connected to the nrf connect app. However in the values field I only receive the hex value never the actual string. What do you think causes this? (I am using an iPhone)\",\n",
      "  \"Hi, nice vidio, but i want to ask you how about send over ble sense and ble device as peripheral and central. how can send float data?\",\n",
      "  \"I am having trouble believing that this is a proper BLE solution since your USB cable remained connected to your computer the whole time. Your nRF Connect showed the sensor data which was the same as that from the serial monitor. I need the Arduino to connect to the nRF Connect but without being attached to the computer, and the signal does not advertise in this case. I'm trying to discover a fix for this, but I would appreciate any ideas from this community. Thanks\",\n",
      "  \"The nano is connected to the computer solely for power purposes. You can connect the same setup directly to the power adaptor and achieve the same results.\\nnRF data shows the same serial because the same device sends both to serial and Bluetooth. It was shown for verification.\",\n",
      "  \"How to transmit sensor data b/w two Arduino Nano BLE 33?\",\n",
      "  \"hi~Robocraze. I have a question,Can you help me? i don't know arduino nano 33 ble how to use blueteeth connect with mac/pc? l want to realize the wireless function with computer\",\n",
      "  \"Very good series. However, I get incorrect temperature values with the code as written and I don't know what the problem is. The Serial.begin(9600) after initializing the sensors seems to screw up the temperature values. To correct this, I move the serial initialization to the beginning of setup().\\n\\nDoes anyone have an explanation for this?\",\n",
      "  \"Oh, interesting. Do you have any other components connected to the Nano while you did your test? And what kind of temeprature values are you getting?\",\n",
      "  \"Congratulations on the presentation/class!\\r\\nI have a doubt!\\r\\nIf I make a voice command for example \\\"STOP\\\" or \\\"PLAY\\\" can any voice activate or just mine?\",\n",
      "  \"amazing video, so much useful info. brother, I was wondering if I could use ble 33 to read 2 or 3 of these sensors simultineously? thank you\",\n",
      "  \"Yes, absolutely. You can read all the sensors I have described concurrently. Just combine those programs and it should work without issues\",\n",
      "  \"This is amazing. Thank you for showing all these sensor capabilities. Really inspires ideas for me.\",\n",
      "  \"Great video! Thanks! What is the power to be given to the kit? Is it taken through the USB?\",\n",
      "  \"Thanks for the great video, your videos have been very helpful in getting started :). Could you help me with a question though? On the full TinyML board (with the camera) there is a button. Do you know what pin that button is assigned to/how to control it? Thanks!\",\n",
      "  \"We are glad you are enjoying this series. Do let us know what other type of videos you would be interested in :)\",\n",
      "  \"Your content very unusual, but interesting. It would not hurt to increase views to bring videos at YouTube recommendation, i know u t i f y or yt ads for that\",\n",
      "  \"How cute u r!!! ♥♥\"\n",
      "]\n"
     ]
    }
   ],
   "source": [
    "que = [\"what\", \"why\", \"when\", \"where\", \"name\", \"how\", \"does\", \"which\", \"would\", \"could\", \"should\", \"has\", \"have\", \"whom\", \"whose\", \"question\"]\n",
    "\n",
    "# This is amazing. Thank you for showing all these sensor capabilities. Really inspires ideas for me\n",
    "\n",
    "questions = []\n",
    "for i in data[\"Comment\"]:\n",
    "    z=i.lower()\n",
    "    if any(q in z for q in que):\n",
    "        questions.append(i)\n",
    "        \n",
    "print(len(questions))\n",
    "print(json.dumps(questions, indent = 2, ensure_ascii = False))"
   ]
  },
  {
   "cell_type": "code",
   "execution_count": null,
   "id": "61ba5aff",
   "metadata": {},
   "outputs": [],
   "source": []
  }
 ],
 "metadata": {
  "kernelspec": {
   "display_name": "Python 3 (ipykernel)",
   "language": "python",
   "name": "python3"
  },
  "language_info": {
   "codemirror_mode": {
    "name": "ipython",
    "version": 3
   },
   "file_extension": ".py",
   "mimetype": "text/x-python",
   "name": "python",
   "nbconvert_exporter": "python",
   "pygments_lexer": "ipython3",
   "version": "3.9.7"
  }
 },
 "nbformat": 4,
 "nbformat_minor": 5
}
